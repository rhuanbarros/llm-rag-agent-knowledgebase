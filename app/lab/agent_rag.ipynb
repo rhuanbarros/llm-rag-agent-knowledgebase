{
 "cells": [
  {
   "cell_type": "code",
   "execution_count": 12,
   "metadata": {},
   "outputs": [],
   "source": [
    "import sys\n",
    "import os\n",
    "\n",
    "# Assuming this notebook is in lab/ directory and you want to import from the parent directory\n",
    "module_path = os.path.abspath(os.path.join('..'))\n",
    "if module_path not in sys.path:\n",
    "    sys.path.append(module_path)\n"
   ]
  },
  {
   "cell_type": "code",
   "execution_count": 19,
   "metadata": {},
   "outputs": [
    {
     "name": "stdout",
     "output_type": "stream",
     "text": [
      "main_chain\n",
      "query\n",
      "teste\n"
     ]
    }
   ],
   "source": [
    "import importlib\n",
    "\n",
    "from procurador.agents.agent_rag import AgentRag\n",
    "# importlib.reload(AgentRag)\n",
    "\n",
    "if 'procurador.agents.agent_rag' in sys.modules:\n",
    "    # print(\"foi\")\n",
    "    importlib.reload(sys.modules['procurador.agents.agent_rag'])\n",
    "\n",
    "from procurador.services.embeddings import GPT4AllEmbeddingsProvider\n",
    "from procurador.config import ConfigService\n",
    "from procurador.services.llm import LlmService, OllamaLlmProvider\n",
    "from procurador.services.vectorstore import VectorStoreService, WeaviteVectorProvider\n",
    "\n",
    "configs = {\n",
    "    'llms': {\n",
    "        'main': 'llama3',\n",
    "        'secondary': 'mistral',\n",
    "        'tertiary': 'mistral'\n",
    "    },\n",
    "    # 'embeddings': '',\n",
    "    # 'vector_store': '',\n",
    "}\n",
    "\n",
    "configService = ConfigService(configs)\n",
    "llmService = OllamaLlmProvider()\n",
    "\n",
    "embeddings = GPT4AllEmbeddingsProvider()\n",
    "\n",
    "vectorStoreService= WeaviteVectorProvider(embeddings)\n",
    "\n",
    "agent = AgentRag(configService=configService, llmService=llmService, vectorStoreService=vectorStoreService)\n",
    "agent.main_chain('teste')"
   ]
  },
  {
   "cell_type": "code",
   "execution_count": null,
   "metadata": {},
   "outputs": [],
   "source": []
  }
 ],
 "metadata": {
  "kernelspec": {
   "display_name": ".venv",
   "language": "python",
   "name": "python3"
  },
  "language_info": {
   "codemirror_mode": {
    "name": "ipython",
    "version": 3
   },
   "file_extension": ".py",
   "mimetype": "text/x-python",
   "name": "python",
   "nbconvert_exporter": "python",
   "pygments_lexer": "ipython3",
   "version": "3.10.14"
  }
 },
 "nbformat": 4,
 "nbformat_minor": 2
}
