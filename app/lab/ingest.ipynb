{
 "cells": [
  {
   "cell_type": "code",
   "execution_count": 4,
   "metadata": {},
   "outputs": [],
   "source": [
    "import sys\n",
    "import os\n",
    "\n",
    "# Assuming the notebook is in 'app/lab' and the module is in 'app/app'\n",
    "module_path = os.path.abspath(os.path.join('..', 'app'))\n",
    "if module_path not in sys.path:\n",
    "    sys.path.append(module_path)"
   ]
  },
  {
   "cell_type": "code",
   "execution_count": 5,
   "metadata": {},
   "outputs": [],
   "source": [
    "from ingest import ingest"
   ]
  },
  {
   "cell_type": "code",
   "execution_count": 6,
   "metadata": {},
   "outputs": [
    {
     "name": "stdout",
     "output_type": "stream",
     "text": [
      "aaaaa\n"
     ]
    }
   ],
   "source": [
    "ingest.teste()"
   ]
  },
  {
   "cell_type": "code",
   "execution_count": 10,
   "metadata": {},
   "outputs": [
    {
     "name": "stderr",
     "output_type": "stream",
     "text": [
      "[nltk_data] Downloading package punkt to /home/vscode/nltk_data...\n",
      "[nltk_data]   Unzipping tokenizers/punkt.zip.\n",
      "[nltk_data] Downloading package averaged_perceptron_tagger to\n",
      "[nltk_data]     /home/vscode/nltk_data...\n",
      "[nltk_data]   Unzipping taggers/averaged_perceptron_tagger.zip.\n"
     ]
    }
   ],
   "source": [
    "from unstructured.partition.auto import partition\n",
    "elements = partition(\"../../docs/Cadastramento inicial no PJe.pdf\")"
   ]
  },
  {
   "cell_type": "code",
   "execution_count": 13,
   "metadata": {},
   "outputs": [
    {
     "data": {
      "text/plain": [
       "[<unstructured.documents.elements.Header at 0x7fe1436a1840>,\n",
       " <unstructured.documents.elements.Header at 0x7fe1436a0eb0>,\n",
       " <unstructured.documents.elements.NarrativeText at 0x7fe1436a1450>,\n",
       " <unstructured.documents.elements.NarrativeText at 0x7fe14340bb20>,\n",
       " <unstructured.documents.elements.NarrativeText at 0x7fe14340b340>,\n",
       " <unstructured.documents.elements.NarrativeText at 0x7fe14340a0b0>,\n",
       " <unstructured.documents.elements.Text at 0x7fe14340b280>,\n",
       " <unstructured.documents.elements.Title at 0x7fe14340afb0>,\n",
       " <unstructured.documents.elements.Title at 0x7fe14340af80>,\n",
       " <unstructured.documents.elements.Text at 0x7fe14340b640>,\n",
       " <unstructured.documents.elements.Title at 0x7fe14340a020>,\n",
       " <unstructured.documents.elements.Footer at 0x7fe143409870>,\n",
       " <unstructured.documents.elements.Footer at 0x7fe143409840>]"
      ]
     },
     "execution_count": 13,
     "metadata": {},
     "output_type": "execute_result"
    }
   ],
   "source": [
    "elements"
   ]
  },
  {
   "cell_type": "code",
   "execution_count": 16,
   "metadata": {},
   "outputs": [
    {
     "name": "stdout",
     "output_type": "stream",
     "text": [
      "26/04/2024, 15:43\n",
      "Cadastramento inicial no PJe\n",
      "Quando o advogado acessa o PJe pela primeira vez utilizando seu certificado digital o sistema buscará alguns dados diretamente do cadastro da OAB e apresentará uma tela solicitando a complementação do cadastro. Por fim, será apresentado um termo de compromisso, o qual deverá ser assinado digitalmente. Após realizar a assinatura digital do termo de compromisso não é necessário entregá-lo ou comparecer a uma unidade judiciária, bastando que o advogado acesse novamente o PJe com seu certificado digital, quando então terá acesso ao seu painel, podendo protocolar novos processos ou solicitar sua habilitação em processos já existentes.\n",
      "Procuradores públicos devem ser cadastrados no PJe pelo procurador-gestor da respectiva procuradoria. Para solicitar o cadastramento de nova procuradoria ou suporte, envie e-mail para o endereço seateco@trt4.jus.br, da Secretaria de Apoio Técnico da Corregedoria.\n",
      "Peritos já cadastrados no CPTEC-TRT4 devem acessar o PJe com certificado digital e complementar os dados de cadastramento. Em caso de problemas, contatar a Central de Atendimento ao Público - CAP (Porto Alegre) ou uma CCDF ou Vara do Trabalho.\n",
      "Peritos ainda não incluídos no CPTEC-TRT4 devem realizar os procedimentos descritos na página de cadastramento do CPTEC-TRT4\n",
      ".\n",
      " (cadastro-de-peritos)\n",
      "Clique aqui para visualizar os contatos de todas as unidades judiciárias (modulos/noticias/298691)\n",
      "\n",
      "Fonte: Secretaria de Tecnologia da Informação e Comunicações Última atualização: 07/03/2023 14:13\n",
      "https://www.trt4.jus.br/portais/trt4/pje-cadastro-procurador\n",
      "1/1\n"
     ]
    }
   ],
   "source": [
    "print(\"\\n\".join([str(el) for el in elements]))"
   ]
  },
  {
   "cell_type": "code",
   "execution_count": null,
   "metadata": {},
   "outputs": [],
   "source": []
  },
  {
   "cell_type": "code",
   "execution_count": 9,
   "metadata": {},
   "outputs": [
    {
     "name": "stdout",
     "output_type": "stream",
     "text": [
      "../../docs\n",
      "Cadastramento inicial no PJe.pdf\n",
      "guiapje-advogados.pdf\n",
      "guiapje-tribunal.pdf\n",
      "guiapje-usuarios.pdf\n",
      "Instalação do PJePortable v. 1.13.10 - para uso do PJe.pdf\n",
      "MANUAL FUNCIONAMENTO DAS PROCURADORIAS NO PJE.pdf\n",
      "Manual.pdf\n",
      "Manual_de_utilização_do_PJe_sem_certificado_digital.pdf\n",
      "PJE - Processo Judicial Eletrônico.pdf\n",
      "PJe Mídias Desktop - Envio de Perícias em MP4.pdf\n",
      "PJeMídias - Acesso à gravação de audiências ou perícias.pdf\n",
      "PJeMídiasDesktop - Envio de Provas em MP4.pdf\n",
      "PROCEDIMENTOS PARA ENVIO DE CÁLCULOS DO PJECALC NO PJE PARA ADVOGADOS.pdf\n",
      "processo_judicial_eletronico_grafica2.pdf\n",
      "TRT04 - Guia para participação em audiências_sessões com a ferramenta Zoom.pdf\n",
      "TRT04 - Manual para advogados e peritos (cadastramento de dados bancários para créditos em processos do TRT04).pdf\n",
      "TRT04 - MANUAL PJE 2.10.1 - PAINEL DO ADVOGADO.pdf\n",
      "TRT04 - PJE 2.10.1 - Manual de autuação no  painel do procurador.pdf\n",
      "Zoom - CDTI OAB.pdf\n"
     ]
    }
   ],
   "source": [
    "path = '../../docs'\n",
    "for path, dirs, files in os.walk(path):\n",
    "    print(path)\n",
    "    for file in files:\n",
    "        print(file)"
   ]
  },
  {
   "cell_type": "code",
   "execution_count": null,
   "metadata": {},
   "outputs": [],
   "source": []
  },
  {
   "cell_type": "code",
   "execution_count": null,
   "metadata": {},
   "outputs": [],
   "source": []
  },
  {
   "cell_type": "code",
   "execution_count": null,
   "metadata": {},
   "outputs": [],
   "source": []
  }
 ],
 "metadata": {
  "kernelspec": {
   "display_name": ".venv",
   "language": "python",
   "name": "python3"
  },
  "language_info": {
   "codemirror_mode": {
    "name": "ipython",
    "version": 3
   },
   "file_extension": ".py",
   "mimetype": "text/x-python",
   "name": "python",
   "nbconvert_exporter": "python",
   "pygments_lexer": "ipython3",
   "version": "3.10.14"
  }
 },
 "nbformat": 4,
 "nbformat_minor": 2
}
