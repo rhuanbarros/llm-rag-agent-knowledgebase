{
 "cells": [
  {
   "cell_type": "code",
   "execution_count": 1,
   "metadata": {},
   "outputs": [],
   "source": [
    "from langchain_community.embeddings import GPT4AllEmbeddings\n",
    "model_name = \"nomic-embed-text-v1.f16.gguf\"\n",
    "gpt4all_kwargs = {'allow_download': 'True'}\n",
    "embeddings = GPT4AllEmbeddings(\n",
    "    model_name=model_name,\n",
    "    gpt4all_kwargs=gpt4all_kwargs\n",
    ")"
   ]
  },
  {
   "cell_type": "code",
   "execution_count": 2,
   "metadata": {},
   "outputs": [],
   "source": [
    "index_name = \"index2\"\n",
    "url = 'host.docker.internal'"
   ]
  },
  {
   "cell_type": "code",
   "execution_count": 3,
   "metadata": {},
   "outputs": [],
   "source": [
    "import weaviate\n",
    "\n",
    "weaviate_client = weaviate.connect_to_custom(\n",
    "    http_host=url,\n",
    "    http_port=8080,\n",
    "    http_secure=False,\n",
    "    grpc_host=url,\n",
    "    grpc_port=50051,\n",
    "    grpc_secure=False,\n",
    "    # auth_credentials=AuthApiKey(weaviate_key),   # `weaviate_key`: your Weaviate API key\n",
    ")"
   ]
  },
  {
   "cell_type": "code",
   "execution_count": 4,
   "metadata": {},
   "outputs": [],
   "source": [
    "from langchain_weaviate.vectorstores import WeaviateVectorStore\n",
    "vector_store = WeaviateVectorStore(weaviate_client, index_name, \"text\", embedding=embeddings)"
   ]
  },
  {
   "cell_type": "code",
   "execution_count": 5,
   "metadata": {},
   "outputs": [],
   "source": [
    "retriever = vector_store.as_retriever(search_type=\"mmr\")"
   ]
  },
  {
   "cell_type": "code",
   "execution_count": 6,
   "metadata": {},
   "outputs": [
    {
     "data": {
      "text/plain": [
       "[Document(page_content='Requisitos mínimos\\n\\nO PJe é um sistema disponível na Internet a ser acessado por meio de computador provido de:\\n\\nnavegador Mozilla Firefox em sua versão mais recente; • plugin Oracle Java Runtime Environment em sua versão mais recente; • plugin Adobe Flash em sua versão mais recente; e • driver de acesso a dispositivo criptográfico (para acesso ao certificado digital do advogado).\\n\\n4\\n\\nConselho Nacional de Justiça\\n\\nCadastramento no sistema\\n\\nO cadastramento no sistema é feito quando da primeira tentativa de login pelo advogado.\\n\\nA tela inicial do sistema é a seguinte:\\n\\nPasso 1: insira seu dispositivo criptográfico na leitora (smartcards) ou na porta USB (token).\\n\\nPasso 2: acione o botão “Acessar com certificado digital”. O sistema acessará seu certificado digital, recuperará suas informações na Receita Federal e na Ordem dos Advogados do Brasil e apresentará a seguinte tela:\\n\\nwww.cnj.jus.br\\n\\n5\\n\\nPasso 3: confira se a inscrição da OAB que você pretende usar na instalação é a selecionada e também seu endereço, modificando-os se necessário, e preencha os campos “Endereço de e-mail” e Telefone.\\n\\nPasso 4: acione o botão “Confirmar dados e prosseguir”. O sistema apresentará o documento de informações sobre o uso do sistema em tela semelhante à seguinte:\\n\\nPasso 5: confira o texto e os dados apresentados e, estando tudo em ordem, acione o botão “Assinar termo de compromisso”. O sistema deverá apresentar a tela de conclusão do cadastramento:', metadata={'filetype': 'application/pdf', 'page_number': 4.0, 'orig_elements': 'eJzVWFFv3DYS/ivEPiWAq1KURIm+p6RogBZ3dZCmT7kiGJGjNVtJ3JLSJmnR/94h17vetbdJfAer7cvaQw4par7hN9/ozW8r7HHAcXprzeqSrZTRjTGmaIuiRqmbgvOy1KU0XYl10ZSrC7YacAIDE5D/byvtnDd2hAlDsnv44Obp7TXa9fVEI5WqMlFLWnYz886a6ZomylxllWhoYuPsOMXVb96UVVZesLwqM/7jBdubUu7MXMhMnbGTOw2swocw4RDf46V9j/33G9C4+p0mOtvj9GGDcQo2m95qmKwbv9yYbpWONq5nWKdXeLPCcb2Ku21o5O04Dy36eN64z4Tv40utXuEvsw12coEN/505RzPawYW41/4xr+3Up4ffDbHOqw54wSnUmotaKSHbXAgAwVVbGVwmxA3PmqMQq3xnFoXImjN2cn/0EKcR/4BsPMbkir38FllCQ7F5YMHGkwIzNmzcuENpiz0bgX0zTuhHnBiwgJ7RK4QAxrGN82xA65hBpt2wmQkFGtp4t7Umjl4eI/zDSK+Ia+ftr2hex1OcQZtjoY3BujS11nmtWwVGmFx3HQdsVLsI2oLLY7RFJffoFhk/Yyf3vzfaI2xxndD5j/vV9j2wF9Zj594zJOhnYFv0IYFeODaADcyjpmfhvyhFBBeCbfp5bUd25UH3yL6FLbBX8zjZAdnX49Z6N0YYH7rdM+NaZC96CNefXor7xcZb8oppl3LRsZu0JYqxW8e0t5vJrX3aJe+sduwJhQ4O3uSCfrI0E9PY2LWdoGf0L5iti2F6mh1n7r/panwTgT2TsEpWppFtU0vZCKS/2jRdblSpVN1KIxZJ2EqWWX6bsFWd35hNJPy7ZnJelP/L42i+cI7o5Gwsc61aU3SK11XZAmFXSyN53QgRk/uxYymaJl7nGJ9UL/c2hS/ZRS2y6owtF6+nX7kxYH/t2HegaZ+Yu3Ql5zDZlPI1fF68EXUFYIg1eEeMW6GiRFYgCihAoKyXyV11LF72sc2JY8U9M/k+dqSrk0jTy4fJQ4yaY6Pbl8nPki6lEKLWHExDEVXQGaMMHVTWjSKMSrVIfJvquJapfekSPMvvmcn30eN7t5B9Mg1PZYv+E0j2WqZDEprslxnGyO1AcoRqlCX2n2gBnZYKF92W3sXys8H+lvRPOP878D46458plbw2pitM2ZkmKpa8qnknygqkaDtF9jK6NM9PdKkQOzOvmqw4Yyf3vzfAzwgnkid2tNruivIdfKMIXc8UiFN5+UnAUJnWmBo4KYhadg03OXYIjdaibLVYppEo8pNGohD7xkGoSHD37HyJRuL/A+wlRE2VXxJkIV6zgPOn1Bj1FH28peT9JAzgJw3ehKfMzXGK2ooJ2A/fP2dPJvczjk8fdjFNS/qhyLHqChIRCspaloQ9do3UrSz1MjgX4gTnQ8tQV1GD3bOT+z8BZ3HJkuZA5ljrpr1Qj8I8189SZ+hjM3hOYScnk7Grw5XetZI3qZEy58yyi9gBzBv0t44zBEq3zvkBdoon/nYVhpg/r6hfoHXsBRpa01PbQINX3lB/YVyglmNH9yFyy3MPwUYX2HgMsUDsn3FLM4mQHsY1khey4DmvNLRQmbLptClbpaGrgdqCYrGu4EhaHXQryVpx31xExZ5oq3fv3mV6/Cn7aQ5Z6z9PsgoKHt1sozmB1Og659RmVQJQATeqfuwWoah5Jo/6rb2977CKutzH9sRepOU6CW71efE0LTVZpam5pmLIseQSyqqTxuQG26JdKFFPWoCm2LdXVfyWdsdcpAWQ93mvuCRWG7tdgWNRnwQqbLfkE0mQxObVs+ckPZFtnU6jUX4iCU9SnHNkxjGtJFKD06VH2qbH1NPRZsQ8MLS7qSGxY9zI426pu2CDM4krSel+QXxGBxsxMuqOwrwlF4wHwFFfAyMPDQPV5Ru2/vp4s6iJ8YsB7A1L08LXdJSOmP5h5VflLSVTmyveqAKwqQXS/7H5aajOdGaRjFLNyRdxksE3OSRjm3PXTt5/QU6VH6ulX6VsI3FEaRWLVQTShVST/JlCerd8EaBOz7seiaA9XyyDa318+BzcsdCmQpk0eCBc+2uIJTAt5P+j8s7roiok55B3qQFuVVW3ROOy7GpRaLnMR13Fs/JIkeXlzrzhlbv2zv0vSIrqlmgci1OOoI9iJWXBAeeUEnS9iUtinzvN9EO4uShzLj4m0UKgwHra2Q+HD/feDZaefT+tDG7xIIgOKcZglx9p9aj7+fC9lg5x0p5/LE9+/AOTzmUG', 'source': 'guiapje-advogados.pdf'}),\n",
       " Document(page_content='http://www.cnj.jus.br/wikipje/index.php/Manual_do_advogado_e_procurador\\n\\n18\\n\\nConselho Nacional de Justiça\\n\\nPoder Judiciário\\n\\nwww.cnj.jus.br\\n\\n19', metadata={'filetype': 'application/pdf', 'page_number': 18.0, 'orig_elements': 'eJy9lMtu2zAQRX/F0DqQ+X5kW6CLAi0CtDs3MIYvm6ksCjJVJwj676XkqIkbL7Kxd7wzI4pz5mJWz5Vv/M63eR1ddbuojCEGBcO0xAhpjK2TkvHABMHKaUOrm0W18xkcZCj1z5VNqXexhez3k27gKQ15vfVxs80lwjWviRTls5fMIbq8LQmGdc2JKokuxTaPX69WjNfsZsEor9H9zWKWTBwl0bImZ/RUXgLV/mmf/W7s4y4++uZ7B9ZXf0oixMbnp86PKei6JlrIMbXLzoVqelq7GWAztbCqfLupxtu6Elm3w874vsSxGi/K/nHsqtrm3N0ul4fDobbtQ/0w7GvTLw/xV+we/DK2zj/W3bZbfoV2gGbt0hrc77SBcvDrrk926Mu5H38+v+tHzM302v9nAiYgQ7TS3DKhNMWIBWadJ9Iphbm8yky4YDV+nQmX+Cg5qfl7ORVfdyJYvYX5OaVcis7Q5NY74bFjDjECzFCgWgagQWAnnLUXpkmUqtGR0NHDL7oAnDSV/4Ce6Kn+ukQ/pXbvm21afANbLoJm4fziy7DP8eeAkJfwMeAkKAVEYWo9UEDaOEItD9RTMKUtdGHgWBRrFoBEHx0663nHYK1rcUZP9RcHrt8Cv0vO94Wwi/aIGPcxfWhFcB6MwQwLJQUYBoa4wEFyJklAzlza1K8rAp2uiEkWh5P38jqGPuF7uq0/5l6lkOAsACMhQCgW1lJrIiw2kirK+IXJUiHndTG5d9bzvqWSzXBP9HUW8AldrM8Rvf8LsuJ9GQ==', 'source': 'guiapje-advogados.pdf'}),\n",
       " Document(page_content='Passo 5: acione a aba “Partes” para incluir as partes.\\n\\nPasso 6: incluir as partes requerente e requerida. A inclusão se faz por meio do botão “+ Parte” no canto superior de cada uma das caixas, sendo a da esquerda da parte requerente e a da direita da parte requerida.\\n\\nAo acionar o botão “+ Parte” será exibida tela solicitando que seja indicado se se trata de pessoa física ou jurídica (e, no caso de requerido, se é autoridade). No caso de pessoa física ou jurídica, será exigido que se insira o número do CPF ou CNPJ dessa pessoa. Após a confirmação dos dados, deve-se preencher a aba “Endereço” e, ao final, inserir a parte.\\n\\nNo polo passivo, se o procedimento se dirigir a um órgão judicial (conselho, tribunal ou vara), deve-se escolher o tipo “Autoridade” e digitar parte do nome desse órgão. O sistema exibirá uma lista dos órgãos que têm parte desse nome, devendo ser escolhido o requerido entre eles. Somente quando não se encontrar o órgão é que se deve criar uma nova autoridade.\\n\\nwww.cnj.jus.br\\n\\n11\\n\\nPasso 7: clique na aba “Características” e indique se o caso exige a aplicação de segredo de justiça. Caso haja alguma modificação, acione o botão “Gravar”. Nessa mesma tela é possível solicitar o reconhecimento de alguma prioridade processual.', metadata={'filetype': 'application/pdf', 'page_number': 11.0, 'orig_elements': 'eJzNV99v3DYM/leEe2qxm+ffsvMWBOuAPWQB2re0CGiJvlNgW64kX9IV+99Hyb4kdxdszUOCAoeDKZEUTX78RF9/X2GHPQ7uRsnVGVulFXIu41bItgRRZHnCU17nMivTPGl4tlqzVY8OJDgg/e8robWRagCHNsgdfNOTu9mi2mwdrRR1EaW8JLNl505Jt6WNPKmjIq1oY9RqcN76+jovonzN0iyOsi9rthfzZBbTuIySZ+SgTgsr+8067P17XKl77D6OIHD1D220qkP3bUS/BePYKQFO6eG3UbarENqwmWATXuF6hcNm5b2NtHIzTH2DhtaTxDtyeO+Cf7BWs+KMgSA/yIBBA+zzlMaJuAJD2QjPko1ggKlBdJMyDKyXaTPyp+4D+qRcF8I8LkbMkwziGMuqqPO4qWLOY1FnZcUTCVVcvE0xivKgGNVSm4wXUf2MHNRfvxhhybwAuKfVK89OC8MMfp3Q+0WGi6AkROx81qWyUkEyzSyyFv5mozasR6WZ1KzRbr87A+EXFqCwIGHQTMDgyHQaySkZSqQVCWzqgUkKQYC6B7sm3wO582sMrY9AhucQ4WGAYV0qg8qdqPiwn8LsEoyhRO/wk8/CM3DLUyFkmkCdZJyyBrIWZZVXaV3EhUhE8yZwy0oe1Y9wozLOIoUUxafyrP6Tw+1czzQBhv0vSiyasJ0wvFcN1ZA57IBZTXFTkT0wqLikdutpRdLLyABG+jkqL3hQjUjwBtYGR9KSDtMTu51mz9IbsXe4nhFJjSAfIaM9+ljQqxlMTnsYSXwfsctH5R/wvz58kY16iJuitoo4UbPB77fQowntc3H1wbu5uLz6kw6xFpZzqPfGoJlZwrvQQ6tMD8E332dSakvwp/81me7wVzpmNIiD2KI54ObfB0nNMxvrJeWUCdCsJSB3ax8d5cEbhV56WQdlaY2ZbGVVNlXGkyJOOSGkbHlccmhz/iYdlKflQQfxct8xgaBP5KD+k3cQgW/UHf0RcavdDFKSjBYolS9A6AEiQkKar93UsxkyZrOHyO1EuFTQsXcEIYvdlrw4o5qJyu5xt6OL+v0jfNAK3Xn0aObUuO/V84eO2GOHDt1QX5qFegnHg+4xABiPY4jYX8wqn2SYu3vfIf4C6GgDApCPrGxonJk0oN+fE/z7o+aQh8ACZgnbd5t+7GlGCTL0Sh0NHuyj7sPl8XUKZDI8udCoXzRpBpo6Tt9CCUsP+yOZMIpUfeyD3sETtnhh08QVQCoKkEncZBlmaVzldZVlsaxSGnXepGmKMo/ix6YpeDKLVRWlp2JQftuB8+7uLhLDbXQ72agxTxP8QWtHBs9kVhBEK2hSSkZDI2MJteQiaSVKSndav/aF7u/meM5WEghnkSmZs8zzfXIP5KD/ttlNkh/LaN40bZEmvKzSTPCyQAJqnhbE9lkOFeavj1VKUBk/QJWkms+Sp/PiRAy6r57L9HS45mdMdMrTxfD0/r0glhVuGQ2kdXSafaBSP88sBLMMG350CB9XIa6jO98rbgzK8Eh94dSsQBPDhTfeAs1I0G08Q/VaqvbYxXr/9fbMVPaHAboR5tBo+AnzSI+2X+axhQ5HbecvArnD7mFIM4F8iUu3KJbbiSJcIhn96B9ocr6/rJ2g+y/G/PIviNrcsA==', 'source': 'guiapje-advogados.pdf'}),\n",
       " Document(page_content='14\\n\\nConselho Nacional de Justiça\\n\\nCiência dada pelo destinatário direto ou indireto e dentro do prazo: conjunto de atos de comunicação sobre os quais o destinatário já teve ciência ou quem o representa, independentemente do meio de intimação utilizado, e cujo prazo ainda está em curso. Caso o ato não tenha prazo para resposta, será exibido no agrupador “Sem prazo”. O prazo limite provável é exibido no canto inferior direito, assim como a informação do responsável pela ciência.\\n\\nCiência dada pelo PJe e dentro do prazo: conjunto de atos de comunicação em relação aos quais houve ciência ficta por decurso do prazo de graça da Lei n.º 11.419/2006, nos casos de intimação eletrônica, e cujo prazo ainda está em curso.\\n\\nCujo prazo findou nos últimos 10 dias: conjunto de atos de comunicação cujo prazo expirou sem resposta nos últimos 10 dias.\\n\\nSem prazo: conjunto de atos de comunicação sobre os quais o destinatário já deu ciência ou quem o representa ou ciência ficta, independentemente do meio de intimação utilizado, e que não têm prazo para resposta.\\n\\nRespondidos nos últimos 10 dias: conjunto de atos de comunicação que foram respondidos pelo intimado nos últimos 10 dias.\\n\\nPara tomar ciência de um ato e responder em seguida, siga os passos:', metadata={'filetype': 'application/pdf', 'page_number': 14.0, 'orig_elements': 'eJzNVk1v2zgQ/SuEzoEqUSIl5VpgD8WiG2x3T2lRjMiRzcASVYrKJin2v++QshPbSZAGbYy92BpyOBy+N1+X3xPcYI+D/2p0cs6SrlSyEXVTV7Kuc9lB2RYlthIBBWRdmZyxpEcPGjyQ/vdEWeu0GcDjFOUN3NrZf12jWa09rYhGpLySdGy784/Rfk0bZd6kgte0MVoz+HD68rIUaXnGhCzT/MsZ24lVvoiCp+KxGJVJTqbbyWMfXnFhbnDzaQSFyb+00ZkN+tsRwxaM48Yo8MYO70bdJdGxYTXDKj7gMsFhlQRrI618Hea+RUfreRkMebwJb0ryiMPO5G/WelIihWM0JZeqrrSqaw11prMsQwDV1TyHRncVvDGavK7TbEEoC4DtZAIwykV1D+iBHPVPi+h7O0y4WVv2ERQZgg3TyD7MkzefZ0JtgeplwBVUQrRNUzVQqo5LUfMsaxtdcwAoUJ4kfGW2wLlIOS926MqA/rEctd8cbHEA9gIqDMoA0wQGG3FjCXGCm6CIm7kztGIcesvszMyw/UZSG7yjPctGB3f2nCk7XM2DDwYYeDuFf2X7eSBHF/bib2HZZFuHjDS+zWAm9tSVV8sn83hNVvYdJS++zdjTKYejw4ncgLPgGI44BKdiIGBwrEcTvSFiTH/kw+zNxtyBtmf0FjVfbZ/BgCwBI3+2DtBNanaTTdl7mAiD8DQ27Kx4HNawPTmCA/JpGu0UPJrQ7UzcmNaQOwMdXrl5pEsd+zzzLFefyHw8HUWdsj+2xjamN/SI0dnrxco1blj8avbtKQiAm6FDAs1FooynJ8E0mT6gT1eGbeuO36/t4uswPdgn+uEA7HQ/3T6CcxRx1/hXiJ8nso7zpkXMOMiubdtGqqyETivUjS6kwOIkWZfXMi0f0o5TmpW7NOOP5UX9f5F3Fx/w59KKYskRg4eLcJ9mazsf51JnlKfbQ+RgjPL7e8MtK7e1Fbxkv6NhQxoWWmB5nhIH76iqEjsDXaEoOabnco3CxMdk6Mrg9Y9m3OuCD4qsLoXgedeIqhZlUeWaFzmNK1Wl27fusdtoK8RB8IlmF2wirZ+Qo/qJg+8B+I6Ap2oa6IvkwIaoIyHPqJDA9JrQ26MTb0bjyOwUw3Gphs/eccDx3wM9DlfWmTvUz/Is67KgspJL1LLMmky1olFK56KDKgdxGp6rcp/nIqTDjtfmsbyon5bn+87yRo1Z4/xyXw6LjwvOz3ZrumavAy/W+6ea8OsqCPKizSS2NKqrqitazrusK/KWN2XdKXWayCr4QfsqRHYYWccyP337+jOODZomkOmX1I5AJw0osC0XW8uxJS6hEEedX1U/WuAtZLJDledF1ckKi0LUVV20jZBCNKdhWR70iTCLRJGLOpVPyPL0feIiJJK3PbjDDCYa5z4OwbjjC13o2ROuZqPD4GtWEGrISEOonc5fYOjLfx5FK+8=', 'source': 'guiapje-advogados.pdf'})]"
      ]
     },
     "execution_count": 6,
     "metadata": {},
     "output_type": "execute_result"
    }
   ],
   "source": [
    "retriever.invoke(\"reset de senha do pje\")"
   ]
  },
  {
   "cell_type": "code",
   "execution_count": null,
   "metadata": {},
   "outputs": [],
   "source": []
  }
 ],
 "metadata": {
  "kernelspec": {
   "display_name": ".venv",
   "language": "python",
   "name": "python3"
  },
  "language_info": {
   "codemirror_mode": {
    "name": "ipython",
    "version": 3
   },
   "file_extension": ".py",
   "mimetype": "text/x-python",
   "name": "python",
   "nbconvert_exporter": "python",
   "pygments_lexer": "ipython3",
   "version": "3.10.14"
  }
 },
 "nbformat": 4,
 "nbformat_minor": 2
}
