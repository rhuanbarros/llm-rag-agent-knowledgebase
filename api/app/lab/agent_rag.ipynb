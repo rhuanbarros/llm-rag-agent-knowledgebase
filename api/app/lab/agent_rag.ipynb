{
 "cells": [
  {
   "cell_type": "code",
   "execution_count": 1,
   "metadata": {},
   "outputs": [
    {
     "data": {
      "text/plain": [
       "True"
      ]
     },
     "execution_count": 1,
     "metadata": {},
     "output_type": "execute_result"
    }
   ],
   "source": [
    "from dotenv import load_dotenv\n",
    "\n",
    "load_dotenv()"
   ]
  },
  {
   "cell_type": "code",
   "execution_count": 2,
   "metadata": {},
   "outputs": [],
   "source": [
    "model_name = \"gpt-4o-mini\""
   ]
  },
  {
   "cell_type": "code",
   "execution_count": 2,
   "metadata": {},
   "outputs": [],
   "source": [
    "from langgraph.graph import StateGraph, END\n",
    "from typing import TypedDict, Annotated, List\n",
    "import operator\n",
    "from langgraph.checkpoint.sqlite import SqliteSaver\n",
    "from langchain_core.messages import AnyMessage, SystemMessage, HumanMessage, AIMessage, ChatMessage\n",
    "\n",
    "# memory = SqliteSaver.from_conn_string(\":memory:\")\n",
    "memory = SqliteSaver.from_conn_string(\"checkpoints_memory.db\")"
   ]
  },
  {
   "cell_type": "code",
   "execution_count": null,
   "metadata": {},
   "outputs": [],
   "source": [
    "# route  if it is necessary to retrieve new documents to answer or it is a follow up question about the conversation. route to retriever or to generate answer\n",
    "\n",
    "# - route generate\n",
    "    # generate answer based in the conversation\n",
    "\n",
    "\n",
    "# - route retrieve\n",
    "    # create a new query to use to retireve docs\n",
    "    # retrieve docs\n",
    "    # generate answer using the docs retrieved"
   ]
  },
  {
   "cell_type": "code",
   "execution_count": 5,
   "metadata": {},
   "outputs": [],
   "source": [
    "class AgentState(TypedDict):\n",
    "    user_input: str\n",
    "    should_retrieve_new_docs: bool\n",
    "    new_query: str\n",
    "    docs_retrieved: str\n",
    "    critique: str"
   ]
  },
  {
   "cell_type": "code",
   "execution_count": 8,
   "metadata": {},
   "outputs": [],
   "source": [
    "state = AgentState()\n",
    "state['user_input'] = 'como faço para instalar o pje?'"
   ]
  },
  {
   "cell_type": "code",
   "execution_count": 19,
   "metadata": {},
   "outputs": [],
   "source": [
    "from langchain_core.pydantic_v1 import BaseModel, Field\n",
    "\n",
    "class RouteInput(BaseModel):\n",
    "    \"\"\"Binary score to asses if the user input could be answered using the current conversation memory history or it is needed to retrieve documents from a vector store.\"\"\"\n",
    "\n",
    "    should_retrieve_new_docs: bool = Field(\n",
    "        description=\"Do you need additional documents to answer the user input?, True or False\"\n",
    "    )"
   ]
  },
  {
   "cell_type": "code",
   "execution_count": 24,
   "metadata": {},
   "outputs": [],
   "source": [
    "from langchain_core.prompts import ChatPromptTemplate\n",
    "from langchain_openai import ChatOpenAI\n",
    "\n",
    "def route_input_user_node(state: AgentState):\n",
    "    llm = ChatOpenAI(model=model_name, temperature=0)\n",
    "    llm_RouteInput = llm.with_structured_output(RouteInput)\n",
    "\n",
    "    # Prompt\n",
    "    PROMPT_ROUTE_INPUT = \"\"\"\n",
    "    You are an expert at assessing if a user input could be answered using the current conversation memory history \\\n",
    "        or it is needed to retrieve documents from a vector store. \n",
    "    If the input is asking a follow up question about the current conversation memory history, you should output 'no'.\n",
    "    If the input is asking a question that need information that couldn't be found in the current conversation memory history, you should output 'yes'.\n",
    "    \"\"\"\n",
    "\n",
    "    llm_RouteInput_response = llm_RouteInput.invoke([\n",
    "            SystemMessage(content=PROMPT_ROUTE_INPUT),\n",
    "            HumanMessage(content=state['user_input'])\n",
    "        ])\n",
    "\n",
    "    return { 'should_retrieve_new_docs': llm_RouteInput_response.should_retrieve_new_docs }"
   ]
  },
  {
   "cell_type": "code",
   "execution_count": 25,
   "metadata": {},
   "outputs": [
    {
     "data": {
      "text/plain": [
       "{'should_retrieve_new_docs': True}"
      ]
     },
     "execution_count": 25,
     "metadata": {},
     "output_type": "execute_result"
    }
   ],
   "source": [
    "returned = route_input_user_node(state)\n",
    "returned"
   ]
  },
  {
   "cell_type": "code",
   "execution_count": 26,
   "metadata": {},
   "outputs": [],
   "source": [
    "state['should_retrieve_new_docs'] = returned['should_retrieve_new_docs']"
   ]
  },
  {
   "cell_type": "code",
   "execution_count": 27,
   "metadata": {},
   "outputs": [
    {
     "data": {
      "text/plain": [
       "{'user_input': 'como faço para instalar o pje?',\n",
       " 'should_retrieve_new_docs': True}"
      ]
     },
     "execution_count": 27,
     "metadata": {},
     "output_type": "execute_result"
    }
   ],
   "source": [
    "state"
   ]
  },
  {
   "cell_type": "code",
   "execution_count": null,
   "metadata": {},
   "outputs": [],
   "source": [
    "from langchain_core.prompts import ChatPromptTemplate\n",
    "from langchain_openai import ChatOpenAI\n",
    "\n",
    "def generate_answer_conversation_node(state: AgentState):\n",
    "    llm = ChatOpenAI(model=model_name, temperature=0)\n",
    "\n",
    "    # Prompt\n",
    "    PROMPT_SYSTEM = \"\"\"\n",
    "    You are a helpfull assistant \n",
    "\n",
    "    \"\"\"\n",
    "\n",
    "    llm_RouteInput_response = llm_RouteInput.invoke([\n",
    "            SystemMessage(content=PROMPT_SYSTEM),\n",
    "            HumanMessage(content=state['user_input'])\n",
    "        ])\n",
    "\n",
    "    return { 'should_retrieve_new_docs': llm_RouteInput_response.should_retrieve_new_docs }"
   ]
  }
 ],
 "metadata": {
  "kernelspec": {
   "display_name": ".venv",
   "language": "python",
   "name": "python3"
  },
  "language_info": {
   "codemirror_mode": {
    "name": "ipython",
    "version": 3
   },
   "file_extension": ".py",
   "mimetype": "text/x-python",
   "name": "python",
   "nbconvert_exporter": "python",
   "pygments_lexer": "ipython3",
   "version": "3.10.14"
  }
 },
 "nbformat": 4,
 "nbformat_minor": 2
}
