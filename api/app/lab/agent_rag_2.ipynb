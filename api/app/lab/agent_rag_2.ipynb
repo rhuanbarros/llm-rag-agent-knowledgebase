{
 "cells": [
  {
   "cell_type": "code",
   "execution_count": 1,
   "metadata": {},
   "outputs": [
    {
     "data": {
      "text/plain": [
       "True"
      ]
     },
     "execution_count": 1,
     "metadata": {},
     "output_type": "execute_result"
    }
   ],
   "source": [
    "from dotenv import load_dotenv\n",
    "\n",
    "load_dotenv()"
   ]
  },
  {
   "cell_type": "code",
   "execution_count": 2,
   "metadata": {},
   "outputs": [],
   "source": [
    "from langchain_community.embeddings import GPT4AllEmbeddings\n",
    "\n",
    "model_name = \"nomic-embed-text-v1.f16.gguf\"\n",
    "\n",
    "gpt4all_kwargs = {'allow_download': 'True'}\n",
    "\n",
    "embeddings  =  GPT4AllEmbeddings(\n",
    "    model_name=model_name,\n",
    "    gpt4all_kwargs=gpt4all_kwargs\n",
    ")"
   ]
  },
  {
   "cell_type": "code",
   "execution_count": 3,
   "metadata": {},
   "outputs": [],
   "source": [
    "WEAVIATE_URL = 'host.docker.internal'\n",
    "index_name = \"index_files\"\n",
    "\n",
    "import weaviate\n",
    "weaviate_client = weaviate.connect_to_custom(\n",
    "    http_host=WEAVIATE_URL,\n",
    "    http_port=8080,\n",
    "    http_secure=False,\n",
    "    grpc_host=WEAVIATE_URL,\n",
    "    grpc_port=50051,\n",
    "    grpc_secure=False,\n",
    "    # auth_credentials=AuthApiKey(weaviate_key),   # `weaviate_key`: your Weaviate API key\n",
    ")\n",
    "\n",
    "from langchain_weaviate.vectorstores import WeaviateVectorStore\n",
    "vectorstore = WeaviateVectorStore(weaviate_client, index_name, \"text\", embedding=embeddings)"
   ]
  },
  {
   "cell_type": "code",
   "execution_count": 4,
   "metadata": {},
   "outputs": [],
   "source": [
    "from langgraph.graph import StateGraph, END\n",
    "from typing import TypedDict, Annotated\n",
    "import operator\n",
    "from langchain_core.messages import AnyMessage, SystemMessage, HumanMessage, ToolMessage\n",
    "from langchain_openai import ChatOpenAI\n",
    "from langgraph.checkpoint.sqlite import SqliteSaver"
   ]
  },
  {
   "cell_type": "code",
   "execution_count": 5,
   "metadata": {},
   "outputs": [],
   "source": [
    "model_name = \"gpt-4o-mini\""
   ]
  },
  {
   "cell_type": "code",
   "execution_count": 6,
   "metadata": {},
   "outputs": [],
   "source": [
    "memory = SqliteSaver.from_conn_string(\":memory:\")"
   ]
  },
  {
   "cell_type": "code",
   "execution_count": 7,
   "metadata": {},
   "outputs": [],
   "source": [
    "class AgentState(TypedDict):\n",
    "    messages: Annotated[list[AnyMessage], operator.add]"
   ]
  },
  {
   "cell_type": "code",
   "execution_count": 8,
   "metadata": {},
   "outputs": [],
   "source": [
    "class Agent:\n",
    "    def __init__(self, model, tools, checkpointer, system=\"\"):\n",
    "        self.system = system\n",
    "        graph = StateGraph(AgentState)\n",
    "        graph.add_node(\"llm\", self.call_openai)\n",
    "        graph.add_node(\"action\", self.take_action)\n",
    "        graph.add_conditional_edges(\"llm\", self.exists_action, {True: \"action\", False: END})\n",
    "        graph.add_edge(\"action\", \"llm\")\n",
    "        graph.set_entry_point(\"llm\")\n",
    "        self.graph = graph.compile(checkpointer=checkpointer)\n",
    "        self.tools = {t.name: t for t in tools}\n",
    "        self.model = model.bind_tools(tools)\n",
    "\n",
    "    def call_openai(self, state: AgentState):\n",
    "        messages = state['messages']\n",
    "        if self.system:\n",
    "            messages = [SystemMessage(content=self.system)] + messages\n",
    "        message = self.model.invoke(messages)\n",
    "        return {'messages': [message]}\n",
    "\n",
    "    def exists_action(self, state: AgentState):\n",
    "        result = state['messages'][-1]\n",
    "        return len(result.tool_calls) > 0\n",
    "\n",
    "    def take_action(self, state: AgentState):\n",
    "        tool_calls = state['messages'][-1].tool_calls\n",
    "        results = []\n",
    "        for t in tool_calls:\n",
    "            print(f\"Calling: {t}\")\n",
    "            result = self.tools[t['name']].invoke(t['args'])\n",
    "            results.append(ToolMessage(tool_call_id=t['id'], name=t['name'], content=str(result)))\n",
    "        print(\"Back to the model!\")\n",
    "        return {'messages': results}"
   ]
  },
  {
   "cell_type": "code",
   "execution_count": 9,
   "metadata": {},
   "outputs": [],
   "source": [
    "from langchain.tools.retriever import create_retriever_tool\n",
    "\n",
    "tool = create_retriever_tool(\n",
    "    vectorstore.as_retriever(),\n",
    "    \"vectorstore\",\n",
    "    \"Searches and returns excerpts from pdf files indexed\",\n",
    ")\n",
    "tools = [tool]"
   ]
  },
  {
   "cell_type": "code",
   "execution_count": 10,
   "metadata": {},
   "outputs": [],
   "source": [
    "prompt = \"\"\"You are a smart research assistant. Use the vectorstore to look up information if needed. \\\n",
    "You are allowed to make multiple calls (either together or in sequence). \\\n",
    "Only look up information when you are sure of what you want. \\\n",
    "If you need to look up some information before asking a follow up question, you are allowed to do that!\n",
    "\"\"\"\n",
    "model = ChatOpenAI(model=model_name)\n",
    "abot = Agent(model, [tool], system=prompt, checkpointer=memory)"
   ]
  },
  {
   "cell_type": "code",
   "execution_count": 11,
   "metadata": {},
   "outputs": [],
   "source": [
    "messages = [HumanMessage(content=\"como faço para instalar o pje?\")]"
   ]
  },
  {
   "cell_type": "code",
   "execution_count": 12,
   "metadata": {},
   "outputs": [],
   "source": [
    "thread = {\"configurable\": {\"thread_id\": \"1\"}}"
   ]
  },
  {
   "cell_type": "code",
   "execution_count": 14,
   "metadata": {},
   "outputs": [
    {
     "name": "stdout",
     "output_type": "stream",
     "text": [
      "[AIMessage(content='', additional_kwargs={'tool_calls': [{'id': 'call_VIX4AZFneOhDRbpWEfd4CLSt', 'function': {'arguments': '{\"query\":\"instalação PJe\"}', 'name': 'vectorstore'}, 'type': 'function'}]}, response_metadata={'token_usage': {'completion_tokens': 18, 'prompt_tokens': 128, 'total_tokens': 146}, 'model_name': 'gpt-4o-mini-2024-07-18', 'system_fingerprint': 'fp_661538dc1f', 'finish_reason': 'tool_calls', 'logprobs': None}, id='run-e5df5a5b-cbb8-4db2-933d-b05e5067e660-0', tool_calls=[{'name': 'vectorstore', 'args': {'query': 'instalação PJe'}, 'id': 'call_VIX4AZFneOhDRbpWEfd4CLSt', 'type': 'tool_call'}], usage_metadata={'input_tokens': 128, 'output_tokens': 18, 'total_tokens': 146})]\n",
      "Calling: {'name': 'vectorstore', 'args': {'query': 'instalação PJe'}, 'id': 'call_VIX4AZFneOhDRbpWEfd4CLSt', 'type': 'tool_call'}\n",
      "Back to the model!\n",
      "[ToolMessage(content='TRT04 - Roteiro de instalação do PJe Portable para uso do PJe\\n\\nVERSÃO DO PORTABLE DISPONIBILIZADA EM 03/12/2021: 1.13.10\\n\\nA configuração do computador para uso do PJe ficou muito mais simples, não sendo mais necessário configurar\\n\\nmanualmente todos os requisitos, como JAVA, plugins e assinadores. Basta baixar e utilizar o navegador\\n\\nPJePortable, desenvolvido pelo TRT4 e imbuído das principais ferramentas necessárias para acesso ao PJe.\\n\\nSugere-se que, antes, o usuário realize os procedimentos para viabilizar a utilização de seu certificado digital. Neste\\n\\nlink para o manual do CSJT há explicações sobre como fazê-lo, porém podem utilizar materiais da autoridade\\n\\ncertificadora ou orientações de seu técnico de TI particular.\\n\\nPara baixar o PJePortable, acessar este link, então clicar em “PJePortable”, consoante destacado na\\n\\nimagem a seguir:\\n\\nIMPORTANTE: Antes de instalar o novo PJe Portable, feche os programas (incluindo navegadores)\\n\\nManual de utilização do PJe sem certificado digital\\n\\nÍndice\\n\\nIntrodução Restrições de acesso ao usuário que acessar o PJe sem certificado digital Procedimento para criar uma senha de acesso ao sistema sem certificado digital\\n\\nNovos usuários do sistema\\n\\nUsuário que já possuam um certificado digital Usuário sem certificado digital\\n\\nUsuário já existente com certificado digital Usuário cadastrado como Push, sem certificado digital\\n\\nProcedimento de secretaria nos tribunais\\n\\nPossíveis problemas e respostas prováveis Procedimentos para o administrador do sistema\\n\\nHabilitação ou restrição da funcionalidade de acesso sem o certificado digital Configuração do modelo do texto do termo de compromisso Configuração do modelo do texto do envio do link para cadastro da senha\\n\\nExemplo de modelo de texto do e\\xadmail para alteração/cadastro da senha\\n\\nAlteração do hash para a troca da senha no banco de dados\\n\\nProcedimentos para os desenvolvedores do sistema\\n\\nSimulando o acesso com certificado digital utilizando usuário e senha\\n\\n1\\n\\nPara acessar o PJeMídiasDesktop são requeridas as mesmas credenciais\\n\\ndo PJeMídias e do Escritório Digital, procedimento já informado acima.\\n\\nImportante destacar que é necessário que na máquina o programa JAVA\\n\\nesteja instalado.\\n\\n3 - Funcionamento\\n\\nRealizado o login, o sistema direciona para a tela a seguir:\\n\\nMaterial elaborado pela SETIC/CIS\\n\\n3\\n\\nPODER JUDICIÁRIO TRIBUNAL REGIONAL DO TRABALHO Secretaria de Tecnologia de Informação e Comunicação Coordenadoria de Implantação de Sistemas\\n\\nNo menu localizado na parte superior, à esquerda, são exibidos as opções\\n\\nconforme a imagem abaixo:\\n\\nClique em “Nova Perícia/Prova e preencha os campos em destaque:\\n\\nImportante: Não realize a remessa de vídeos sigilosos, pois o PJeMídias\\n\\nnão permite aos advogados realizar tal classificação. Nesses casos, entre em\\n\\ncontato com a Vara do Trabalho onde tramita o processo para receber\\n\\norientações sobre a disponibilização dos arquivos.\\n\\nMaterial elaborado pela SETIC/CIS\\n\\n4\\n\\nPODER JUDICIÁRIO TRIBUNAL REGIONAL DO TRABALHO Secretaria de Tecnologia de Informação e Comunicação Coordenadoria de Implantação de Sistemas\\n\\nRealizada essa etapa, clicar em “Concluir”. O sistema direciona para a tela a seguir:\\n\\nMaterial elaborado pela SETIC/CIS\\n\\n5\\n\\nPODER JUDICIÁRIO TRIBUNAL REGIONAL DO TRABALHO Secretaria de Tecnologia de Informação e Comunicação Coordenadoria de Implantação de Sistemas\\n\\nproblemas em sua utilização, encaminhe solicitação de atendimento pelo\\n\\ne-mail sistemasnacionais@cnj.jus.br.\\n\\n2 - Instalação\\n\\nO sistema PJeMídias Desktop é utilizado para envio de provas e perícias\\n\\ndos processos que tramitam no PJe para o PJeMídias. O sistema aceita apenas\\n\\narquivos no formato MP4. Arquivos em outros formatos precisam ser convertidos\\n\\npreviamente para que possam ser enviados.\\n\\nPara realizar o download do sistema clique no link:\\n\\nhttps://www.trt4.jus.br/portais/media/447673/ad-1.3.0-externo.jar\\n\\nMaterial elaborado pela SETIC/CIS\\n\\n1\\n\\nPODER JUDICIÁRIO TRIBUNAL REGIONAL DO TRABALHO Secretaria de Tecnologia de Informação e Comunicação Coordenadoria de Implantação de Sistemas\\n\\nCaso a máquina já possua uma versão do PJeMídiasDesktop é necessário\\n\\nque ela seja desinstalada previamente para se fazer o novo download.\\n\\nAo final do download do arquivo podem aparecer as mensagens abaixo,\\n\\ndevendo-se clicar em “Mais informações”:\\n\\nApós, clicar em “Executar assim mesmo”:\\n\\nPode aparecer também a imagem abaixo, devendo-se clicar em “Manter”:\\n\\nApós o download, pode-se criar um atalho para o sistema, dispensando novo\\n\\ndownload a cada utilização.\\n\\nMaterial elaborado pela SETIC/CIS\\n\\n2\\n\\nPODER JUDICIÁRIO TRIBUNAL REGIONAL DO TRABALHO Secretaria de Tecnologia de Informação e Comunicação Coordenadoria de Implantação de Sistemas', name='vectorstore', tool_call_id='call_VIX4AZFneOhDRbpWEfd4CLSt')]\n",
      "[AIMessage(content='Para instalar o PJe (Processo Judicial Eletrônico), siga os passos abaixo:\\n\\n1. **Download do PJePortable**:\\n   - Acesse o site do TRT (Tribunal Regional do Trabalho) e localize o link para o download do PJePortable. É importante baixar a versão mais recente disponível.\\n   - Antes de iniciar a instalação, feche todos os programas e navegadores abertos.\\n\\n2. **Certificado Digital**:\\n   - Certifique-se de que você possui um certificado digital válido. O manual do CSJT (Conselho Superior da Justiça do Trabalho) pode ser consultado para orientações sobre a configuração do certificado.\\n\\n3. **Instalação do PJe**:\\n   - Após o download, execute o arquivo. Se houver mensagens de segurança, clique em \"Mais informações\" e depois em \"Executar assim mesmo\".\\n   - Caso a máquina já tenha uma versão anterior do PJeMídiasDesktop, desinstale-a antes de instalar a nova versão.\\n\\n4. **Java**:\\n   - Verifique se o programa Java está instalado em sua máquina, pois o PJe pode requerer essa tecnologia para funcionar corretamente.\\n\\n5. **Atalhos**:\\n   - Após a instalação, você pode criar um atalho para facilitar o acesso ao sistema nas próximas utilizações.\\n\\nSe você tiver problemas durante a instalação ou utilização, recomenda-se entrar em contato com o suporte técnico do tribunal ou consultar a documentação disponível no site do TRT.', response_metadata={'token_usage': {'completion_tokens': 301, 'prompt_tokens': 1217, 'total_tokens': 1518}, 'model_name': 'gpt-4o-mini-2024-07-18', 'system_fingerprint': 'fp_661538dc1f', 'finish_reason': 'stop', 'logprobs': None}, id='run-19a98364-0a03-4b21-af14-81d96642e393-0', usage_metadata={'input_tokens': 1217, 'output_tokens': 301, 'total_tokens': 1518})]\n"
     ]
    }
   ],
   "source": [
    "for event in abot.graph.stream({\"messages\": messages}, thread):\n",
    "    for v in event.values():\n",
    "        print(v['messages'])"
   ]
  },
  {
   "cell_type": "code",
   "execution_count": 16,
   "metadata": {},
   "outputs": [
    {
     "name": "stdout",
     "output_type": "stream",
     "text": [
      "{'messages': [AIMessage(content='', additional_kwargs={'tool_calls': [{'id': 'call_QWdVVOxRIAXf4T7MdtqKDyLC', 'function': {'arguments': '{\"query\":\"site TRT4\"}', 'name': 'vectorstore'}, 'type': 'function'}]}, response_metadata={'token_usage': {'completion_tokens': 16, 'prompt_tokens': 1533, 'total_tokens': 1549}, 'model_name': 'gpt-4o-mini-2024-07-18', 'system_fingerprint': 'fp_661538dc1f', 'finish_reason': 'tool_calls', 'logprobs': None}, id='run-265baa71-4097-4af2-a2f1-a21784fbf456-0', tool_calls=[{'name': 'vectorstore', 'args': {'query': 'site TRT4'}, 'id': 'call_QWdVVOxRIAXf4T7MdtqKDyLC', 'type': 'tool_call'}], usage_metadata={'input_tokens': 1533, 'output_tokens': 16, 'total_tokens': 1549})]}\n",
      "Calling: {'name': 'vectorstore', 'args': {'query': 'site TRT4'}, 'id': 'call_QWdVVOxRIAXf4T7MdtqKDyLC', 'type': 'tool_call'}\n",
      "Back to the model!\n",
      "{'messages': [ToolMessage(content='Fonte: Secretaria de Tecnologia da Informação e Comunicações Última atualização: 07/03/2023 14:13\\n\\nhttps://www.trt4.jus.br/portais/trt4/pje-cadastro-procurador\\n\\n1/1\\n\\nTRT04\\n\\nPJeMídias Desktop\\n\\nEnvio de Perícias em MP4\\n\\n1 - Cadastro de Peritos\\n\\n2 - Alterando a Senha\\n\\n3 - Instalação\\n\\n4 - Envio de vídeos\\n\\n5 - Erros e Soluções\\n\\n1\\n\\n1\\n\\n3\\n\\n5\\n\\n13\\n\\nPODER JUDICIÁRIO TRIBUNAL REGIONAL DO TRABALHO Secretaria de Tecnologia de Informação e Comunicação Coordenadoria de Implantação de Sistemas\\n\\n1 - Cadastro de Peritos\\n\\nPara poderem enviar e acessar vídeos no PJEMÍDIAS os peritos devem\\n\\nsolicitar o seu cadastramento junto ao TRT04, preenchendo o formulário de\\n\\nsolicitação de cadastramento disponibilizado pela Corregedoria.\\n\\nClique aqui para acessar o formulário\\n\\nApós o cadastramento no PJEMÍDIAS, você receberá um email da\\n\\nCorregedoria informando a realização do cadastro, com orientações.\\n\\nApós\\n\\no\\n\\nrecebimento\\n\\nda\\n\\nconfirmação\\n\\nde\\n\\nseu\\n\\ncadastro,\\n\\nacesse\\n\\nhttps://midias.pje.jus.br/midias/web/site/login e informe seu CPF no campo usuário e\\n\\nrealize em seguida a alteração da senha.\\n\\n2 - Alterando a Senha\\n\\nPara fazer a alteração da senha deve-se acessar o site Portal de audiência e\\n\\nclicar em “Esqueceu a senha?” Esta ação fará com que apareçam duas opções de\\n\\nusuário logo abaixo dos campos CPF e Senha.\\n\\nPODER JUDICIÁRIO\\n\\nTRIBUNAL REGIONAL DO TRABALHO DA 4ª REGIÃO\\n\\nSecretaria de Tecnologia da Informação e Comunicações\\n\\nCoordenadoria de Implantação de Sistemas\\n\\nTRT4\\n\\nZoom: Guia rápido para participação em audiências e sessões por\\n\\nvideoconferência\\n\\nParticipando de uma audiência/sessão por videoconferência no Zoom\\n\\n1.1 Requisitos 1.2 Acesso às audiências/sessões 1.3 Participando de audiências/sessões pelo computador 1.4 Participando de reuniões/sessões pelo celular\\n\\nNa sala de audiência/sessão\\n\\n2.1 Ícones 2.2 Sala de espera 2.3 Pano de fundo\\n\\nParticipando de uma audiência/sessão por videoconferência no Zoom\\n\\nAlterando o nome antes de entrar na audiência/sessão (advogados)\\n\\n4.1 No celular\\n\\n1 Material elaborado pela SETIC/CIS\\n\\n2 2 2 4 7\\n\\n8 8 10 10\\n\\n11\\n\\n12 12\\n\\nPODER JUDICIÁRIO\\n\\nTRIBUNAL REGIONAL DO TRABALHO DA 4ª REGIÃO\\n\\nSecretaria de Tecnologia da Informação e Comunicações\\n\\nCoordenadoria de Implantação de Sistemas\\n\\nPúblico-alvo deste material: advogados, partes e\\n\\nperitos que irão participar de sessões ou audiências\\n\\ntelepresenciais em processos judiciais do TRT04.\\n\\nA Justiça do Trabalho instituiu, por meio do ATO CONJUNTO N. 54/TST.CSJT.GP,\\n\\nDE 29 DE DEZEMBRO DE 2020, a plataforma Zoom como sistema oficial para a realização\\n\\nPODER JUDICIÁRIO TRIBUNAL REGIONAL DO TRABALHO Secretaria de Tecnologia de Informação e Comunicação Coordenadoria de Implantação de Sistemas\\n\\nTRT04 - Manual para advogados e peritos (cadastramento de dados bancários para créditos em processos do TRT04)\\n\\nA partir da implantação dos sistemas de alvarás eletrônicos de transferência\\n\\nbancária no TRT da 4ª Região tornou-se necessário que as secretarias das Varas\\n\\ndo Trabalho preencham os dados bancários da conta de crédito.\\n\\nPara evitar que advogados e peritos tenham que fornecer tais informações\\n\\nem todos os processos nos quais atuam, bem como para facilitar o preenchimento\\n\\ndos alvarás por parte das unidades judiciárias, foi disponibilizado o Sistema de\\n\\nCadastro de Dados Bancários (desenvolvido pelo TRT da 2ª Região).\\n\\nAtravés desse programa, advogados e peritos poderão cadastrar seus dados\\n\\nbancários, que serão disponibilizados às Varas do Trabalho para consulta em banco\\n\\nde dados centralizado. O cadastramento é vinculado ao CPF, portanto, contas\\n\\njurídicas vinculadas a mais de um CPF devem ser cadastradas por todos os\\n\\npossíveis credores.\\n\\nPara informar seus dados, siga o roteiro abaixo.\\n\\nREQUISITO\\n\\nO acesso ao sistema de cadastro de dados bancários pode ser realizado\\n\\napenas com certificado digital.\\n\\nAcesso ao sistema\\n\\nO sistema está disponível no site do TRT04, no menu lateral PJe, devendo-se\\n\\nlocalizar o Sistema de Cadastro de Dados Bancários na página. Pode também', name='vectorstore', tool_call_id='call_QWdVVOxRIAXf4T7MdtqKDyLC')]}\n",
      "{'messages': [AIMessage(content='O endereço do site do Tribunal Regional do Trabalho da 4ª Região (TRT4), onde você pode encontrar informações sobre o PJe, é [https://www.trt4.jus.br](https://www.trt4.jus.br). \\n\\nVocê pode acessar diretamente as informações relacionadas ao PJe utilizando o seguinte link: [PJe - Cadastro de Procurador](https://www.trt4.jus.br/portais/trt4/pje-cadastro-procurador).', response_metadata={'token_usage': {'completion_tokens': 100, 'prompt_tokens': 2601, 'total_tokens': 2701}, 'model_name': 'gpt-4o-mini-2024-07-18', 'system_fingerprint': 'fp_611b667b19', 'finish_reason': 'stop', 'logprobs': None}, id='run-e34d42d6-57c6-4f0b-9ff0-dbe2907a45fa-0', usage_metadata={'input_tokens': 2601, 'output_tokens': 100, 'total_tokens': 2701})]}\n"
     ]
    }
   ],
   "source": [
    "messages = [HumanMessage(content=\"Você sabe qual o endereço do site mencionado\")]\n",
    "thread = {\"configurable\": {\"thread_id\": \"1\"}}\n",
    "for event in abot.graph.stream({\"messages\": messages}, thread):\n",
    "    for v in event.values():\n",
    "        print(v)"
   ]
  },
  {
   "cell_type": "code",
   "execution_count": null,
   "metadata": {},
   "outputs": [],
   "source": []
  },
  {
   "cell_type": "code",
   "execution_count": 13,
   "metadata": {},
   "outputs": [
    {
     "name": "stdout",
     "output_type": "stream",
     "text": [
      "Calling: {'name': 'vectorstore', 'args': {'query': 'instalar PJe'}, 'id': 'call_FUj6unJqR0SgEN3AiSCExmMT', 'type': 'tool_call'}\n",
      "Back to the model!\n"
     ]
    },
    {
     "data": {
      "text/plain": [
       "{'messages': [HumanMessage(content='como faço para instalar o pje?'),\n",
       "  AIMessage(content='', additional_kwargs={'tool_calls': [{'id': 'call_FUj6unJqR0SgEN3AiSCExmMT', 'function': {'arguments': '{\"query\":\"instalar PJe\"}', 'name': 'vectorstore'}, 'type': 'function'}]}, response_metadata={'token_usage': {'completion_tokens': 17, 'prompt_tokens': 130, 'total_tokens': 147}, 'model_name': 'gpt-4o-mini-2024-07-18', 'system_fingerprint': 'fp_611b667b19', 'finish_reason': 'tool_calls', 'logprobs': None}, id='run-080ffa6d-ae18-41db-b233-24cda3bb4bab-0', tool_calls=[{'name': 'vectorstore', 'args': {'query': 'instalar PJe'}, 'id': 'call_FUj6unJqR0SgEN3AiSCExmMT', 'type': 'tool_call'}], usage_metadata={'input_tokens': 130, 'output_tokens': 17, 'total_tokens': 147}),\n",
       "  ToolMessage(content='TRT04 - Roteiro de instalação do PJe Portable para uso do PJe\\n\\nVERSÃO DO PORTABLE DISPONIBILIZADA EM 03/12/2021: 1.13.10\\n\\nA configuração do computador para uso do PJe ficou muito mais simples, não sendo mais necessário configurar\\n\\nmanualmente todos os requisitos, como JAVA, plugins e assinadores. Basta baixar e utilizar o navegador\\n\\nPJePortable, desenvolvido pelo TRT4 e imbuído das principais ferramentas necessárias para acesso ao PJe.\\n\\nSugere-se que, antes, o usuário realize os procedimentos para viabilizar a utilização de seu certificado digital. Neste\\n\\nlink para o manual do CSJT há explicações sobre como fazê-lo, porém podem utilizar materiais da autoridade\\n\\ncertificadora ou orientações de seu técnico de TI particular.\\n\\nPara baixar o PJePortable, acessar este link, então clicar em “PJePortable”, consoante destacado na\\n\\nimagem a seguir:\\n\\nIMPORTANTE: Antes de instalar o novo PJe Portable, feche os programas (incluindo navegadores)\\n\\nPara acessar o PJeMídiasDesktop são requeridas as mesmas credenciais\\n\\ndo PJeMídias e do Escritório Digital, procedimento já informado acima.\\n\\nImportante destacar que é necessário que na máquina o programa JAVA\\n\\nesteja instalado.\\n\\n3 - Funcionamento\\n\\nRealizado o login, o sistema direciona para a tela a seguir:\\n\\nMaterial elaborado pela SETIC/CIS\\n\\n3\\n\\nPODER JUDICIÁRIO TRIBUNAL REGIONAL DO TRABALHO Secretaria de Tecnologia de Informação e Comunicação Coordenadoria de Implantação de Sistemas\\n\\nNo menu localizado na parte superior, à esquerda, são exibidos as opções\\n\\nconforme a imagem abaixo:\\n\\nClique em “Nova Perícia/Prova e preencha os campos em destaque:\\n\\nImportante: Não realize a remessa de vídeos sigilosos, pois o PJeMídias\\n\\nnão permite aos advogados realizar tal classificação. Nesses casos, entre em\\n\\ncontato com a Vara do Trabalho onde tramita o processo para receber\\n\\norientações sobre a disponibilização dos arquivos.\\n\\nMaterial elaborado pela SETIC/CIS\\n\\n4\\n\\nPODER JUDICIÁRIO TRIBUNAL REGIONAL DO TRABALHO Secretaria de Tecnologia de Informação e Comunicação Coordenadoria de Implantação de Sistemas\\n\\nRealizada essa etapa, clicar em “Concluir”. O sistema direciona para a tela a seguir:\\n\\nMaterial elaborado pela SETIC/CIS\\n\\n5\\n\\nPODER JUDICIÁRIO TRIBUNAL REGIONAL DO TRABALHO Secretaria de Tecnologia de Informação e Comunicação Coordenadoria de Implantação de Sistemas\\n\\nManual de utilização do PJe sem certificado digital\\n\\nÍndice\\n\\nIntrodução Restrições de acesso ao usuário que acessar o PJe sem certificado digital Procedimento para criar uma senha de acesso ao sistema sem certificado digital\\n\\nNovos usuários do sistema\\n\\nUsuário que já possuam um certificado digital Usuário sem certificado digital\\n\\nUsuário já existente com certificado digital Usuário cadastrado como Push, sem certificado digital\\n\\nProcedimento de secretaria nos tribunais\\n\\nPossíveis problemas e respostas prováveis Procedimentos para o administrador do sistema\\n\\nHabilitação ou restrição da funcionalidade de acesso sem o certificado digital Configuração do modelo do texto do termo de compromisso Configuração do modelo do texto do envio do link para cadastro da senha\\n\\nExemplo de modelo de texto do e\\xadmail para alteração/cadastro da senha\\n\\nAlteração do hash para a troca da senha no banco de dados\\n\\nProcedimentos para os desenvolvedores do sistema\\n\\nSimulando o acesso com certificado digital utilizando usuário e senha\\n\\n1\\n\\nPJe:\\n\\nObservações importantes antes de enviar um cálculo ao PJe:\\n\\n★Sempre verifique se, no cálculo, todas as partes estão cadastradas com seus respectivos documentos fiscais, i.e., CPF ou CNPJ. Isso vale tanto para a página Dados do Cálculo quanto para as demais, como na aba Honorários;\\n\\n★Sempre verifique se as partes no PJe estão com os respectivos documentos fiscais cadastrados. Caso uma ou mais partes não possuam CPF ou CNPJ cadastrados, deve-se comunicar a Unidade Judiciária responsável para retificação.\\n\\n★Verifique, também, se os nomes das partes contêm algum caractere especial como travessão (neste caso, substituir por um hífen comum). Letras acentuadas e cedilha são aceitos normalmente.\\n\\n★Por fim, o sistema efetua validação dos documentos fiscais do cálculo com os do processo, assim, se houver divergência em um CPF ou CNPJ, o cálculo não poderá ser enviado, sendo exibida mensagem de erro. Exemplo: CPF do reclamante no processo é XXX, já no cálculo está como XXY.\\n\\nFeitas as verificações acima, pode-se seguir para os procedimentos de envio ao PJe.\\n\\nEste tópico subdivide-se em dois, sendo o primeiro destinado a Advogados e o segundo a Peritos. Clique aqui para acessar diretamente a parte de peritos.', name='vectorstore', tool_call_id='call_FUj6unJqR0SgEN3AiSCExmMT'),\n",
       "  AIMessage(content='Para instalar o PJe, você pode seguir os seguintes passos, especialmente se optar pela versão Portable:\\n\\n1. **Baixar o PJePortable**:\\n   - Acesse o site do Tribunal Regional do Trabalho (TRT) onde o PJe Portable está disponível.\\n   - Clique na opção \"PJePortable\" para download.\\n\\n2. **Preparação**:\\n   - Antes de iniciar a instalação, feche todos os programas, incluindo navegadores.\\n   - Certifique-se de que o programa Java esteja instalado em sua máquina, pois ele é necessário para o funcionamento do PJe.\\n\\n3. **Certificado Digital**:\\n   - É recomendado que você realize os procedimentos para viabilizar a utilização de seu certificado digital. Consulte o manual do CSJT ou materiais da autoridade certificadora para orientações.\\n\\n4. **Execução**:\\n   - Após o download, execute o PJePortable. O sistema solicitará suas credenciais para login.\\n   - Uma vez logado, você terá acesso ao menu principal e poderá começar a utilizar o sistema.\\n\\nCaso precise de mais detalhes sobre algum passo específico ou tenha dúvidas adicionais, sinta-se à vontade para perguntar!', response_metadata={'token_usage': {'completion_tokens': 236, 'prompt_tokens': 1172, 'total_tokens': 1408}, 'model_name': 'gpt-4o-mini-2024-07-18', 'system_fingerprint': 'fp_661538dc1f', 'finish_reason': 'stop', 'logprobs': None}, id='run-47e1c0d5-4516-4bbb-affe-5d4a1944409c-0', usage_metadata={'input_tokens': 1172, 'output_tokens': 236, 'total_tokens': 1408})]}"
      ]
     },
     "execution_count": 13,
     "metadata": {},
     "output_type": "execute_result"
    }
   ],
   "source": [
    "response = abot.graph.invoke({\"messages\": messages}, thread)\n",
    "response"
   ]
  }
 ],
 "metadata": {
  "kernelspec": {
   "display_name": ".venv",
   "language": "python",
   "name": "python3"
  },
  "language_info": {
   "codemirror_mode": {
    "name": "ipython",
    "version": 3
   },
   "file_extension": ".py",
   "mimetype": "text/x-python",
   "name": "python",
   "nbconvert_exporter": "python",
   "pygments_lexer": "ipython3",
   "version": "3.10.14"
  }
 },
 "nbformat": 4,
 "nbformat_minor": 2
}
