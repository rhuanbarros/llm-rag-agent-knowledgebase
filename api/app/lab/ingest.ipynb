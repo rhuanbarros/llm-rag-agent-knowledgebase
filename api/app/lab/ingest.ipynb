{
 "cells": [
  {
   "cell_type": "code",
   "execution_count": null,
   "metadata": {},
   "outputs": [],
   "source": [
    "import sys\n",
    "import os\n",
    "\n",
    "# Assuming the notebook is in 'app/lab' and the module is in 'app/app'\n",
    "module_path = os.path.abspath(os.path.join('..', 'app'))\n",
    "if module_path not in sys.path:\n",
    "    sys.path.append(module_path)"
   ]
  },
  {
   "cell_type": "code",
   "execution_count": null,
   "metadata": {},
   "outputs": [],
   "source": [
    "from ingest import ingest"
   ]
  },
  {
   "cell_type": "code",
   "execution_count": null,
   "metadata": {},
   "outputs": [],
   "source": [
    "ingest.teste()"
   ]
  },
  {
   "cell_type": "code",
   "execution_count": null,
   "metadata": {},
   "outputs": [],
   "source": [
    "from unstructured.partition.auto import partition\n",
    "from unstructured.chunking.title import chunk_by_title\n",
    "from langchain_core.documents import Document\n"
   ]
  },
  {
   "cell_type": "code",
   "execution_count": null,
   "metadata": {},
   "outputs": [],
   "source": [
    "elements = partition(\"../../docs/Cadastramento inicial no PJe.pdf\")"
   ]
  },
  {
   "cell_type": "code",
   "execution_count": null,
   "metadata": {},
   "outputs": [],
   "source": [
    "elements"
   ]
  },
  {
   "cell_type": "code",
   "execution_count": null,
   "metadata": {},
   "outputs": [],
   "source": [
    "print(\"\\n\".join([str(el) for el in elements]))"
   ]
  },
  {
   "cell_type": "code",
   "execution_count": null,
   "metadata": {},
   "outputs": [],
   "source": [
    "chunks = chunk_by_title(elements, max_characters=1500, new_after_n_chars=1000, overlap=150)\n",
    "chunks"
   ]
  },
  {
   "cell_type": "code",
   "execution_count": null,
   "metadata": {},
   "outputs": [],
   "source": [
    "chunks[1].metadata.to_dict()"
   ]
  },
  {
   "cell_type": "code",
   "execution_count": null,
   "metadata": {},
   "outputs": [],
   "source": [
    "for chunk in chunks:\n",
    "    print(chunk)\n",
    "    print(\"\\n\" + \"-\"*80)\n",
    "    # input()"
   ]
  },
  {
   "cell_type": "code",
   "execution_count": null,
   "metadata": {},
   "outputs": [],
   "source": [
    "documents = []\n",
    "for chunk in chunks:\n",
    "    metadata = chunk.metadata.to_dict()\n",
    "    del metadata[\"languages\"]\n",
    "    metadata[\"source\"] = metadata[\"filename\"]\n",
    "    documents.append(Document(page_content=chunk.text, metadata=metadata))"
   ]
  },
  {
   "cell_type": "code",
   "execution_count": null,
   "metadata": {},
   "outputs": [],
   "source": []
  },
  {
   "cell_type": "code",
   "execution_count": null,
   "metadata": {},
   "outputs": [],
   "source": []
  },
  {
   "cell_type": "code",
   "execution_count": null,
   "metadata": {},
   "outputs": [],
   "source": [
    "path, dirs, files = next(os.walk(path))\n",
    "files"
   ]
  },
  {
   "cell_type": "code",
   "execution_count": null,
   "metadata": {},
   "outputs": [],
   "source": [
    "documents = []\n",
    "for file in files:\n",
    "    with open( os.path.join(path, file), 'rb') as f:\n",
    "        print(f'Opening file: {file}')\n",
    "        \n",
    "        # open file, clean, segment\n",
    "        elements = partition(file=f)\n",
    "        \n",
    "        # create chunks to better rag\n",
    "        chunks = chunk_by_title(elements, max_characters=1500, new_after_n_chars=1000, overlap=150)\n",
    "        \n",
    "        # convert to the Langchain format\n",
    "        for chunk in chunks:\n",
    "            metadata = chunk.metadata.to_dict()\n",
    "            # print(\"---------------------\")\n",
    "            # print(metadata)\n",
    "            # print(\"---------------------\")\n",
    "            # print(chunk.text)\n",
    "\n",
    "            del metadata[\"languages\"]\n",
    "            if \"filename\" in metadata:\n",
    "                metadata[\"source\"] = metadata[\"filename\"]\n",
    "            else:\n",
    "                metadata[\"source\"] = file\n",
    "\n",
    "            documents.append(Document(page_content=chunk.text, metadata=metadata))\n"
   ]
  },
  {
   "cell_type": "code",
   "execution_count": null,
   "metadata": {},
   "outputs": [],
   "source": [
    "documents"
   ]
  },
  {
   "cell_type": "code",
   "execution_count": null,
   "metadata": {},
   "outputs": [],
   "source": []
  },
  {
   "cell_type": "code",
   "execution_count": null,
   "metadata": {},
   "outputs": [],
   "source": [
    "from langchain_community.embeddings import GPT4AllEmbeddings\n",
    "model_name = \"nomic-embed-text-v1.f16.gguf\"\n",
    "gpt4all_kwargs = {'allow_download': 'True'}\n",
    "embeddings = GPT4AllEmbeddings(\n",
    "    model_name=model_name,\n",
    "    gpt4all_kwargs=gpt4all_kwargs\n",
    ")"
   ]
  },
  {
   "cell_type": "code",
   "execution_count": null,
   "metadata": {},
   "outputs": [],
   "source": []
  },
  {
   "cell_type": "code",
   "execution_count": null,
   "metadata": {},
   "outputs": [],
   "source": [
    "import weaviate\n",
    "# from langchain_weaviate.vectorstores import WeaviateVectorStore\n",
    "from langchain_community.vectorstores import Weaviate"
   ]
  },
  {
   "cell_type": "code",
   "execution_count": null,
   "metadata": {},
   "outputs": [],
   "source": [
    "index_name = \"index1\"\n",
    "url = 'host.docker.internal'"
   ]
  },
  {
   "cell_type": "code",
   "execution_count": null,
   "metadata": {},
   "outputs": [],
   "source": [
    "vectorstore = Weaviate.from_documents(\n",
    "    documents=all_splits, embedding=OpenAIEmbeddings(), index_name=WEAVIATE_INDEX_NAME\n",
    ")\n",
    "# retriever = vectorstore.as_retriever()\n",
    "\n",
    "# vectorstore = Weaviate.from_existing_index(WEAVIATE_INDEX_NAME, OpenAIEmbeddings())\n",
    "# retriever = vectorstore.as_retriever()"
   ]
  },
  {
   "cell_type": "code",
   "execution_count": null,
   "metadata": {},
   "outputs": [],
   "source": [
    "\n",
    "\n",
    "# weaviate_client = weaviate.connect_to_custom(\n",
    "#     http_host=url,\n",
    "#     http_port=8080,\n",
    "#     http_secure=False,\n",
    "#     grpc_host=url,\n",
    "#     grpc_port=50051,\n",
    "#     grpc_secure=False,\n",
    "#     # auth_credentials=AuthApiKey(weaviate_key),   # `weaviate_key`: your Weaviate API key\n",
    "# )\n",
    "\n",
    "weaviate_client = weaviate.connect_to_local(url)\n",
    "# vector_store = Weaviate(weaviate_client, index_name, \"text_key\")\n",
    "\n",
    "# vector_store = WeaviateVectorStore(client=weaviate_client, index_name, \"text_key\")\n",
    "# db = WeaviateVectorStore.from_documents(documents, embeddings, client=weaviate_client)\n",
    "db = WeaviateVectorStore.from_documents([], embeddings, client=weaviate_client)"
   ]
  },
  {
   "cell_type": "code",
   "execution_count": null,
   "metadata": {},
   "outputs": [],
   "source": [
    "vector_store.from_documents(documents, embeddings)"
   ]
  }
 ],
 "metadata": {
  "kernelspec": {
   "display_name": ".venv",
   "language": "python",
   "name": "python3"
  },
  "language_info": {
   "codemirror_mode": {
    "name": "ipython",
    "version": 3
   },
   "file_extension": ".py",
   "mimetype": "text/x-python",
   "name": "python",
   "nbconvert_exporter": "python",
   "pygments_lexer": "ipython3",
   "version": "3.10.14"
  }
 },
 "nbformat": 4,
 "nbformat_minor": 2
}
